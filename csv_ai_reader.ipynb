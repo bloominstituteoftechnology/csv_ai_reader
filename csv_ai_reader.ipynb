{
 "cells": [
  {
   "cell_type": "markdown",
   "id": "2f3dd6a7",
   "metadata": {},
   "source": [
    "# Connecting to CSV with LLMs"
   ]
  },
  {
   "cell_type": "code",
   "execution_count": 2,
   "id": "383e3b60",
   "metadata": {},
   "outputs": [
    {
     "data": {
      "text/plain": [
       "True"
      ]
     },
     "execution_count": 2,
     "metadata": {},
     "output_type": "execute_result"
    }
   ],
   "source": [
    "from langchain_experimental.agents.agent_toolkits import create_csv_agent\n",
    "from langchain_community.document_loaders import WebBaseLoader\n",
    "from langchain_openai import ChatOpenAI\n",
    "from dotenv import load_dotenv\n",
    "\n",
    "load_dotenv()"
   ]
  },
  {
   "cell_type": "code",
   "execution_count": null,
   "id": "3fe05c6e",
   "metadata": {},
   "outputs": [],
   "source": [
    "import zipfile\n",
    "import os\n",
    "\n",
    "zip_path = \"./datasets.zip\"\n",
    "extract_path = \"./datasets\"\n",
    "\n",
    "if not os.path.exists(extract_path):\n",
    "    with zipfile.ZipFile(zip_path, 'r') as zip_ref:\n",
    "        zip_ref.extractall(\".\")\n",
    "    print(\"datasets unzipped\")\n",
    "else:\n",
    "    print(\"datasets already exist: skipping unzip\")"
   ]
  },
  {
   "cell_type": "markdown",
   "id": "e42adde2",
   "metadata": {},
   "source": [
    "## Connecting to the salaries datasets"
   ]
  },
  {
   "cell_type": "code",
   "execution_count": null,
   "id": "1cca8753",
   "metadata": {},
   "outputs": [],
   "source": [
    "csv = \"./datasets/ds_salaries.csv\"\n",
    "llm = ChatOpenAI( temperature=0.5)\n",
    "agent_executor = create_csv_agent(llm, csv, verbose=True, allow_dangerous_code=True)"
   ]
  },
  {
   "cell_type": "code",
   "execution_count": null,
   "id": "b19bf742",
   "metadata": {},
   "outputs": [],
   "source": [
    "agent_executor.invoke(\"\")"
   ]
  },
  {
   "cell_type": "code",
   "execution_count": null,
   "id": "30d6b275",
   "metadata": {},
   "outputs": [],
   "source": [
    "agent_executor.invoke(\"\")"
   ]
  },
  {
   "cell_type": "code",
   "execution_count": 3,
   "id": "ff2bfd33",
   "metadata": {},
   "outputs": [],
   "source": [
    "#visualizations\n",
    "agent_executor.invoke(\"\")"
   ]
  },
  {
   "cell_type": "code",
   "execution_count": null,
   "id": "fa7449de",
   "metadata": {},
   "outputs": [],
   "source": [
    "#modifications - remove columns\n",
    "agent_executor.invoke(\"\")"
   ]
  },
  {
   "cell_type": "code",
   "execution_count": null,
   "id": "11a69b5b",
   "metadata": {},
   "outputs": [],
   "source": [
    "agent_executor"
   ]
  },
  {
   "cell_type": "markdown",
   "id": "88d441f7",
   "metadata": {},
   "source": [
    "## Yelp"
   ]
  },
  {
   "cell_type": "code",
   "execution_count": null,
   "id": "d0a6dc0c",
   "metadata": {},
   "outputs": [],
   "source": [
    "url = \"./datasets/yelp_reviews.csv\"\n",
    "yelp_agent = create_csv_agent(llm, url, verbose=True, allow_dangerous_code=True)"
   ]
  },
  {
   "cell_type": "code",
   "execution_count": null,
   "id": "1393210f",
   "metadata": {},
   "outputs": [],
   "source": [
    "#best restaurant?\n",
    "yelp_agent.invoke(\"\")"
   ]
  },
  {
   "cell_type": "code",
   "execution_count": null,
   "id": "7c25a8dc",
   "metadata": {},
   "outputs": [],
   "source": [
    "#how many 5 stars?\n",
    "yelp_agent.invoke(\"\")"
   ]
  },
  {
   "cell_type": "code",
   "execution_count": null,
   "id": "b9a0da64",
   "metadata": {},
   "outputs": [],
   "source": [
    "#test against pandas\n",
    "import pandas as pd\n",
    "data= pd.read_csv(url)\n",
    "data.stars.value_counts()"
   ]
  },
  {
   "cell_type": "markdown",
   "id": "5c111727",
   "metadata": {},
   "source": [
    "## With Scraping"
   ]
  },
  {
   "cell_type": "code",
   "execution_count": null,
   "id": "6fd4506b",
   "metadata": {},
   "outputs": [],
   "source": [
    "loader = WebBaseLoader(\"https://www.yelp.com/biz/mcdonalds-washington-5?osq=Mcdonald%27s\")"
   ]
  },
  {
   "cell_type": "code",
   "execution_count": null,
   "id": "5cdacd5c",
   "metadata": {},
   "outputs": [],
   "source": [
    "docs=loader.load()\n",
    "docs[0]"
   ]
  },
  {
   "cell_type": "code",
   "execution_count": null,
   "id": "3a43d890",
   "metadata": {},
   "outputs": [],
   "source": [
    "page_content= docs[0].page_content"
   ]
  },
  {
   "cell_type": "code",
   "execution_count": null,
   "id": "0ec8d33d",
   "metadata": {},
   "outputs": [],
   "source": [
    "content= llm.invoke(f\"Extract the first review from the following ur: {page_content}\").content"
   ]
  },
  {
   "cell_type": "code",
   "execution_count": null,
   "id": "ce3eef48",
   "metadata": {},
   "outputs": [],
   "source": [
    "yelp_agent.invoke(f\"Take this review: {content}. Add the review to the dataframe as a new row. Create and output a new file called updated_reviews.csv\")"
   ]
  }
 ],
 "metadata": {
  "kernelspec": {
   "display_name": "Python 3 (ipykernel)",
   "language": "python",
   "name": "python3"
  },
  "language_info": {
   "codemirror_mode": {
    "name": "ipython",
    "version": 3
   },
   "file_extension": ".py",
   "mimetype": "text/x-python",
   "name": "python",
   "nbconvert_exporter": "python",
   "pygments_lexer": "ipython3",
   "version": "3.10.10"
  }
 },
 "nbformat": 4,
 "nbformat_minor": 5
}
